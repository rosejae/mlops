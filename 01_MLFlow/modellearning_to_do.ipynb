{
 "cells": [
  {
   "cell_type": "code",
   "execution_count": 1,
   "id": "64aa039c",
   "metadata": {},
   "outputs": [],
   "source": [
    "import pandas as pd\n",
    "from sklearn.ensemble import RandomForestClassifier\n",
    "from sklearn.model_selection import train_test_split\n",
    "from sklearn.metrics import accuracy_score\n",
    "from sklearn.metrics import precision_recall_fscore_support"
   ]
  },
  {
   "cell_type": "code",
   "execution_count": 2,
   "id": "5d25fb25",
   "metadata": {},
   "outputs": [
    {
     "data": {
      "text/html": [
       "<div>\n",
       "<style scoped>\n",
       "    .dataframe tbody tr th:only-of-type {\n",
       "        vertical-align: middle;\n",
       "    }\n",
       "\n",
       "    .dataframe tbody tr th {\n",
       "        vertical-align: top;\n",
       "    }\n",
       "\n",
       "    .dataframe thead th {\n",
       "        text-align: right;\n",
       "    }\n",
       "</style>\n",
       "<table border=\"1\" class=\"dataframe\">\n",
       "  <thead>\n",
       "    <tr style=\"text-align: right;\">\n",
       "      <th></th>\n",
       "      <th>Age</th>\n",
       "      <th>SibSp</th>\n",
       "      <th>Parch</th>\n",
       "      <th>Fare</th>\n",
       "      <th>Pclass_1</th>\n",
       "      <th>Pclass_2</th>\n",
       "      <th>Pclass_3</th>\n",
       "      <th>Sex_female</th>\n",
       "      <th>Sex_male</th>\n",
       "      <th>Embarked_C</th>\n",
       "      <th>Embarked_N</th>\n",
       "      <th>Embarked_Q</th>\n",
       "      <th>Embarked_S</th>\n",
       "      <th>Survived</th>\n",
       "    </tr>\n",
       "  </thead>\n",
       "  <tbody>\n",
       "    <tr>\n",
       "      <th>0</th>\n",
       "      <td>0.271174</td>\n",
       "      <td>0.125</td>\n",
       "      <td>0.0</td>\n",
       "      <td>0.014151</td>\n",
       "      <td>False</td>\n",
       "      <td>False</td>\n",
       "      <td>True</td>\n",
       "      <td>False</td>\n",
       "      <td>True</td>\n",
       "      <td>False</td>\n",
       "      <td>False</td>\n",
       "      <td>False</td>\n",
       "      <td>True</td>\n",
       "      <td>0</td>\n",
       "    </tr>\n",
       "    <tr>\n",
       "      <th>1</th>\n",
       "      <td>0.472229</td>\n",
       "      <td>0.125</td>\n",
       "      <td>0.0</td>\n",
       "      <td>0.139136</td>\n",
       "      <td>True</td>\n",
       "      <td>False</td>\n",
       "      <td>False</td>\n",
       "      <td>True</td>\n",
       "      <td>False</td>\n",
       "      <td>True</td>\n",
       "      <td>False</td>\n",
       "      <td>False</td>\n",
       "      <td>False</td>\n",
       "      <td>1</td>\n",
       "    </tr>\n",
       "    <tr>\n",
       "      <th>2</th>\n",
       "      <td>0.321438</td>\n",
       "      <td>0.000</td>\n",
       "      <td>0.0</td>\n",
       "      <td>0.015469</td>\n",
       "      <td>False</td>\n",
       "      <td>False</td>\n",
       "      <td>True</td>\n",
       "      <td>True</td>\n",
       "      <td>False</td>\n",
       "      <td>False</td>\n",
       "      <td>False</td>\n",
       "      <td>False</td>\n",
       "      <td>True</td>\n",
       "      <td>1</td>\n",
       "    </tr>\n",
       "    <tr>\n",
       "      <th>3</th>\n",
       "      <td>0.434531</td>\n",
       "      <td>0.125</td>\n",
       "      <td>0.0</td>\n",
       "      <td>0.103644</td>\n",
       "      <td>True</td>\n",
       "      <td>False</td>\n",
       "      <td>False</td>\n",
       "      <td>True</td>\n",
       "      <td>False</td>\n",
       "      <td>False</td>\n",
       "      <td>False</td>\n",
       "      <td>False</td>\n",
       "      <td>True</td>\n",
       "      <td>1</td>\n",
       "    </tr>\n",
       "    <tr>\n",
       "      <th>4</th>\n",
       "      <td>0.434531</td>\n",
       "      <td>0.000</td>\n",
       "      <td>0.0</td>\n",
       "      <td>0.015713</td>\n",
       "      <td>False</td>\n",
       "      <td>False</td>\n",
       "      <td>True</td>\n",
       "      <td>False</td>\n",
       "      <td>True</td>\n",
       "      <td>False</td>\n",
       "      <td>False</td>\n",
       "      <td>False</td>\n",
       "      <td>True</td>\n",
       "      <td>0</td>\n",
       "    </tr>\n",
       "  </tbody>\n",
       "</table>\n",
       "</div>"
      ],
      "text/plain": [
       "        Age  SibSp  Parch      Fare  Pclass_1  Pclass_2  Pclass_3  Sex_female  \\\n",
       "0  0.271174  0.125    0.0  0.014151     False     False      True       False   \n",
       "1  0.472229  0.125    0.0  0.139136      True     False     False        True   \n",
       "2  0.321438  0.000    0.0  0.015469     False     False      True        True   \n",
       "3  0.434531  0.125    0.0  0.103644      True     False     False        True   \n",
       "4  0.434531  0.000    0.0  0.015713     False     False      True       False   \n",
       "\n",
       "   Sex_male  Embarked_C  Embarked_N  Embarked_Q  Embarked_S  Survived  \n",
       "0      True       False       False       False        True         0  \n",
       "1     False        True       False       False       False         1  \n",
       "2     False       False       False       False        True         1  \n",
       "3     False       False       False       False        True         1  \n",
       "4      True       False       False       False        True         0  "
      ]
     },
     "execution_count": 2,
     "metadata": {},
     "output_type": "execute_result"
    }
   ],
   "source": [
    "df = pd.read_csv(r'dataset_preprocessing.csv', index_col=0)\n",
    "df.head()"
   ]
  },
  {
   "cell_type": "code",
   "execution_count": 3,
   "id": "6bd9470e",
   "metadata": {},
   "outputs": [],
   "source": [
    "label = df['Survived']\n",
    "df = df.drop(['Survived'], axis=1)"
   ]
  },
  {
   "cell_type": "code",
   "execution_count": 4,
   "id": "2d4c4be6",
   "metadata": {},
   "outputs": [],
   "source": [
    "X_train, X_test, y_train, y_test = train_test_split(df, label, test_size=0.25, random_state=1234)"
   ]
  },
  {
   "cell_type": "markdown",
   "id": "325602cb",
   "metadata": {},
   "source": [
    "### <font color=yellow>1. 일반적인 모델 학습</font>"
   ]
  },
  {
   "cell_type": "code",
   "execution_count": 5,
   "id": "2db2f63f",
   "metadata": {},
   "outputs": [],
   "source": [
    "n_estimator = 300\n",
    "random_state = 1234\n",
    "\n",
    "model = RandomForestClassifier(n_estimators=n_estimator, random_state=random_state)\n",
    "model.fit(X_train, y_train)\n",
    "y_pred = model.predict(X_test)\n",
    "\n",
    "accuracy = accuracy_score(y_test, y_pred)\n",
    "prf = precision_recall_fscore_support(y_test, y_pred, average='binary')"
   ]
  },
  {
   "cell_type": "code",
   "execution_count": 6,
   "id": "c23fcc3f",
   "metadata": {},
   "outputs": [
    {
     "data": {
      "text/plain": [
       "0.8116591928251121"
      ]
     },
     "execution_count": 6,
     "metadata": {},
     "output_type": "execute_result"
    }
   ],
   "source": [
    "accuracy"
   ]
  },
  {
   "cell_type": "markdown",
   "id": "26f4c8cd",
   "metadata": {},
   "source": [
    "### <font color=yellow>2. mlflow를 활용한 모델 학습</font>\n",
    "- custom logging (직접 로깅)을 통한 모델 학습 기록 관리\n",
    "- auto logging을 활용한 모델 학습 기록 관리\n",
    "- auto logging + custom logging"
   ]
  },
  {
   "cell_type": "markdown",
   "id": "07e26665",
   "metadata": {},
   "source": [
    "#### <font color=red>2-1. custom logging을 통한 모델 학습 기록 관리</font>"
   ]
  },
  {
   "cell_type": "code",
   "execution_count": 7,
   "id": "aeacff9c",
   "metadata": {},
   "outputs": [
    {
     "data": {
      "text/plain": [
       "'412400933482959348'"
      ]
     },
     "execution_count": 7,
     "metadata": {},
     "output_type": "execute_result"
    }
   ],
   "source": [
    "import mlflow\n",
    "\n",
    "# 만약 회사에서 공통 서버가 있으면, 그 서버를 적어주면 됨\n",
    "mlflow.set_tracking_uri('http://127.0.0.1:5000')\n",
    "mlflow.create_experiment('hellomlflow!')"
   ]
  },
  {
   "cell_type": "markdown",
   "id": "30762e98",
   "metadata": {},
   "source": [
    "mlflow는 중앙 집중화되어 있는 플랫폼\n",
    "- 여러명이 사용할 수 있고, 서버화 할 수 있음\n",
    "- 우리의 log를 서버에 기록해야함"
   ]
  },
  {
   "cell_type": "code",
   "execution_count": 8,
   "id": "73ff0c24",
   "metadata": {},
   "outputs": [
    {
     "data": {
      "text/plain": [
       "<Experiment: artifact_location='mlflow-artifacts:/412400933482959348', creation_time=1752573163208, experiment_id='412400933482959348', last_update_time=1752573163208, lifecycle_stage='active', name='hellomlflow!', tags={}>"
      ]
     },
     "execution_count": 8,
     "metadata": {},
     "output_type": "execute_result"
    }
   ],
   "source": [
    "# 지금 우리가 실행하는 코드는, 이 experiment에 설정을 해줌\n",
    "mlflow.set_experiment('hellomlflow!')"
   ]
  },
  {
   "cell_type": "markdown",
   "id": "74d0b6e2",
   "metadata": {},
   "source": [
    "custom logging\n",
    "- mlflow.log_param()\n",
    "    - 모델 파라미터 저장\n",
    "- mlflow.log_model()\n",
    "    - 모델 저장\n",
    "- mlflow.log_metric()\n",
    "    - 모델의 메트릭 (성능)"
   ]
  },
  {
   "cell_type": "code",
   "execution_count": 9,
   "id": "d94094df",
   "metadata": {},
   "outputs": [
    {
     "name": "stderr",
     "output_type": "stream",
     "text": [
      "2025/07/15 19:01:40 WARNING mlflow.models.model: `artifact_path` is deprecated. Please use `name` instead.\n",
      "2025/07/15 19:01:59 WARNING mlflow.models.model: Model logged without a signature and input example. Please set `input_example` parameter when logging the model to auto infer the model signature.\n"
     ]
    },
    {
     "name": "stdout",
     "output_type": "stream",
     "text": [
      "🏃 View run persistent-deer-881 at: http://127.0.0.1:5000/#/experiments/412400933482959348/runs/aa657284e8bc4dc8a34019ae2c903bf2\n",
      "🧪 View experiment at: http://127.0.0.1:5000/#/experiments/412400933482959348\n"
     ]
    }
   ],
   "source": [
    "n_estimator = 300\n",
    "random_state = 1234\n",
    "\n",
    "mlflow.start_run()\n",
    "\n",
    "model = RandomForestClassifier(n_estimators=n_estimator, random_state=random_state)\n",
    "model.fit(X_train, y_train)\n",
    "y_pred = model.predict(X_test)\n",
    "accuracy = accuracy_score(y_test, y_pred)\n",
    "prf = precision_recall_fscore_support(y_test, y_pred, average='binary')\n",
    "\n",
    "mlflow.log_param('n_estimator', n_estimator)\n",
    "mlflow.log_metric('accuracy_on_test', accuracy)\n",
    "mlflow.log_metric('precision_on_test', prf[0])\n",
    "mlflow.log_metric('recall_on_test', prf[1])\n",
    "mlflow.log_metric('f1score_on_test', prf[2])\n",
    "mlflow.sklearn.log_model(model, 'model')\n",
    "\n",
    "mlflow.end_run()"
   ]
  },
  {
   "cell_type": "markdown",
   "id": "ef9b7357",
   "metadata": {},
   "source": [
    "#### <font color=red>2-2. auto logging</font>\n",
    "- 우리가 저장하는 것은 정해져 있기 때문에, 이런 것을 일일이 하는 것은 비효율적임\n",
    "- 그래서 있는게 auto logging"
   ]
  },
  {
   "cell_type": "code",
   "execution_count": 10,
   "id": "06b59c92",
   "metadata": {},
   "outputs": [
    {
     "name": "stderr",
     "output_type": "stream",
     "text": [
      "2025/07/15 19:06:27 INFO mlflow.utils.autologging_utils: Created MLflow autologging run with ID 'ef1da6cbae6a4702a3ea98d97c8db1e9', which will track hyperparameters, performance metrics, model artifacts, and lineage information for the current sklearn workflow\n"
     ]
    },
    {
     "name": "stdout",
     "output_type": "stream",
     "text": [
      "🏃 View run gentle-sponge-847 at: http://127.0.0.1:5000/#/experiments/412400933482959348/runs/ef1da6cbae6a4702a3ea98d97c8db1e9\n",
      "🧪 View experiment at: http://127.0.0.1:5000/#/experiments/412400933482959348\n"
     ]
    }
   ],
   "source": [
    "mlflow.sklearn.autolog()\n",
    "\n",
    "n_estimator = 30\n",
    "random_state = 1234\n",
    "\n",
    "model = RandomForestClassifier(n_estimators=n_estimator, random_state=random_state)\n",
    "model.fit(X_train, y_train)\n",
    "y_pred = model.predict(X_test)\n",
    "accuracy = accuracy_score(y_test, y_pred)\n",
    "prf = precision_recall_fscore_support(y_test, y_pred, average='binary')"
   ]
  },
  {
   "cell_type": "markdown",
   "id": "49f7bf66",
   "metadata": {},
   "source": [
    "#### <font color=red>2-3. auto + custom logging</font>"
   ]
  },
  {
   "cell_type": "code",
   "execution_count": 11,
   "id": "32b125d9",
   "metadata": {},
   "outputs": [
    {
     "name": "stderr",
     "output_type": "stream",
     "text": [
      "2025/07/15 19:10:23 INFO mlflow.utils.autologging_utils: Created MLflow autologging run with ID 'a48b7288181649cc997758120fca7970', which will track hyperparameters, performance metrics, model artifacts, and lineage information for the current sklearn workflow\n"
     ]
    },
    {
     "name": "stdout",
     "output_type": "stream",
     "text": [
      "🏃 View run omniscient-horse-605 at: http://127.0.0.1:5000/#/experiments/412400933482959348/runs/a48b7288181649cc997758120fca7970\n",
      "🧪 View experiment at: http://127.0.0.1:5000/#/experiments/412400933482959348\n"
     ]
    }
   ],
   "source": [
    "# mlflow.sklearn.autolog()\n",
    "\n",
    "model = RandomForestClassifier(n_estimators=n_estimator, random_state=random_state)\n",
    "model.fit(X_train, y_train)\n",
    "y_pred = model.predict(X_test)\n",
    "accuracy = accuracy_score(y_test, y_pred)\n",
    "prf = precision_recall_fscore_support(y_test, y_pred, average='binary')\n",
    "\n",
    "mlflow.log_metric('accuracy_on_test', accuracy)\n",
    "mlflow.log_metric('precision_on_test', prf[0])\n",
    "mlflow.log_metric('recall_on_test', prf[1])\n",
    "mlflow.log_metric('f1score_on_test', prf[2])"
   ]
  },
  {
   "attachments": {
    "image.png": {
     "image/png": "[encoded data removed]"
    }
   },
   "cell_type": "markdown",
   "id": "2ec74ab6",
   "metadata": {},
   "source": [
    "auto log와 custom log가 따로 생겼음\n",
    "![image.png](attachment:image.png)"
   ]
  },
  {
   "cell_type": "code",
   "execution_count": 12,
   "id": "cfae3954",
   "metadata": {},
   "outputs": [
    {
     "name": "stdout",
     "output_type": "stream",
     "text": [
      "🏃 View run monumental-moth-576 at: http://127.0.0.1:5000/#/experiments/412400933482959348/runs/c70f3ac8cbbb42b0a07ac6752bcf78a4\n",
      "🧪 View experiment at: http://127.0.0.1:5000/#/experiments/412400933482959348\n"
     ]
    }
   ],
   "source": [
    "mlflow.end_run()"
   ]
  },
  {
   "cell_type": "markdown",
   "id": "ab8b515e",
   "metadata": {},
   "source": [
    "with mlflow.start_run():을 사용하면 \n",
    "- 하나의 task에 대해서 mlflow가 하나의 job으로 인식하게됨"
   ]
  },
  {
   "cell_type": "code",
   "execution_count": 13,
   "id": "9590d948",
   "metadata": {},
   "outputs": [
    {
     "name": "stdout",
     "output_type": "stream",
     "text": [
      "🏃 View run bemused-deer-720 at: http://127.0.0.1:5000/#/experiments/412400933482959348/runs/a7a84a08ec2f4f86a72a240824c16204\n",
      "🧪 View experiment at: http://127.0.0.1:5000/#/experiments/412400933482959348\n"
     ]
    }
   ],
   "source": [
    "with mlflow.start_run():\n",
    "    n_estimator = 30\n",
    "    random_state = 1234\n",
    "    max_depth = 2\n",
    "    model = RandomForestClassifier(n_estimators=n_estimator, random_state=random_state)\n",
    "    model.fit(X_train, y_train)\n",
    "    y_pred = model.predict(X_test)\n",
    "    accuracy = accuracy_score(y_test, y_pred)\n",
    "    prf = precision_recall_fscore_support(y_test, y_pred, average='binary')\n",
    "\n",
    "    mlflow.log_metric('accuracy_on_test', accuracy)\n",
    "    mlflow.log_metric('precision_on_test', prf[0])\n",
    "    mlflow.log_metric('recall_on_test', prf[1])\n",
    "    mlflow.log_metric('f1score_on_test', prf[2])"
   ]
  },
  {
   "cell_type": "markdown",
   "id": "8473366c",
   "metadata": {},
   "source": [
    "### <font color=yellow>3. mlflow를 활용한 모델 최적화 tracking</font>\n",
    "- 직접 parameter 변경해가며 모델 최적화\n",
    "- gridsearch 혹은 randomsearch를 활용하여 모델 최적화"
   ]
  },
  {
   "cell_type": "markdown",
   "id": "c29b47ca",
   "metadata": {},
   "source": [
    "#### <font color=red>3-1. 직접 parameter 변경해가며 모델 최적화</font>"
   ]
  },
  {
   "cell_type": "code",
   "execution_count": 15,
   "id": "4dbc8cc4",
   "metadata": {},
   "outputs": [],
   "source": [
    "def train_model_with_hyperparameters(n_estimator, max_depth, max_feature):\n",
    "    with mlflow.start_run():     \n",
    "        model = RandomForestClassifier(\n",
    "            n_estimators=n_estimator, \n",
    "            max_depth=max_depth, \n",
    "            max_features=max_feature,\n",
    "            random_state=random_state,\n",
    "            )\n",
    "        model.fit(X_train, y_train)\n",
    "        y_pred = model.predict(X_test)\n",
    "        accuracy = accuracy_score(y_test, y_pred)\n",
    "        prf = precision_recall_fscore_support(y_test, y_pred, average='binary')\n",
    "\n",
    "        mlflow.log_metric('accuracy_on_test', accuracy)\n",
    "        mlflow.log_metric('precision_on_test', prf[0])\n",
    "        mlflow.log_metric('recall_on_test', prf[1])\n",
    "        mlflow.log_metric('f1score_on_test', prf[2])"
   ]
  },
  {
   "cell_type": "code",
   "execution_count": 16,
   "id": "e2986d22",
   "metadata": {},
   "outputs": [
    {
     "name": "stdout",
     "output_type": "stream",
     "text": [
      "🏃 View run peaceful-flea-393 at: http://127.0.0.1:5000/#/experiments/412400933482959348/runs/0bf9298670d1473f8cb80b2355ef2969\n",
      "🧪 View experiment at: http://127.0.0.1:5000/#/experiments/412400933482959348\n",
      "🏃 View run masked-asp-388 at: http://127.0.0.1:5000/#/experiments/412400933482959348/runs/352fc95f6aca43828b94d2bf812e8d14\n",
      "🧪 View experiment at: http://127.0.0.1:5000/#/experiments/412400933482959348\n",
      "🏃 View run nimble-roo-164 at: http://127.0.0.1:5000/#/experiments/412400933482959348/runs/fa9114ac9dfc4f92a7083d01606477c8\n",
      "🧪 View experiment at: http://127.0.0.1:5000/#/experiments/412400933482959348\n",
      "🏃 View run bedecked-gnu-275 at: http://127.0.0.1:5000/#/experiments/412400933482959348/runs/4027a500e75f47b494d423fb907c7494\n",
      "🧪 View experiment at: http://127.0.0.1:5000/#/experiments/412400933482959348\n",
      "🏃 View run big-fawn-707 at: http://127.0.0.1:5000/#/experiments/412400933482959348/runs/d54914324c594b0bad8b8441bb5a0d30\n",
      "🧪 View experiment at: http://127.0.0.1:5000/#/experiments/412400933482959348\n",
      "🏃 View run amusing-cat-847 at: http://127.0.0.1:5000/#/experiments/412400933482959348/runs/1b270a50445a49a49ecc55b55e5ef8b1\n",
      "🧪 View experiment at: http://127.0.0.1:5000/#/experiments/412400933482959348\n",
      "🏃 View run capable-carp-819 at: http://127.0.0.1:5000/#/experiments/412400933482959348/runs/4e38790736c04331a8e473e92e3665ce\n",
      "🧪 View experiment at: http://127.0.0.1:5000/#/experiments/412400933482959348\n",
      "🏃 View run lyrical-robin-363 at: http://127.0.0.1:5000/#/experiments/412400933482959348/runs/b291d51dc4104b2b84706eea105c384e\n",
      "🧪 View experiment at: http://127.0.0.1:5000/#/experiments/412400933482959348\n",
      "🏃 View run welcoming-hen-173 at: http://127.0.0.1:5000/#/experiments/412400933482959348/runs/18fe2022a8f44f7ca61884cd5130ee7f\n",
      "🧪 View experiment at: http://127.0.0.1:5000/#/experiments/412400933482959348\n",
      "🏃 View run orderly-sheep-448 at: http://127.0.0.1:5000/#/experiments/412400933482959348/runs/1f2ee7f2ca804f968475865aa06440ae\n",
      "🧪 View experiment at: http://127.0.0.1:5000/#/experiments/412400933482959348\n",
      "🏃 View run dapper-fawn-595 at: http://127.0.0.1:5000/#/experiments/412400933482959348/runs/4b4d874847f54647a894aa04b22a154a\n",
      "🧪 View experiment at: http://127.0.0.1:5000/#/experiments/412400933482959348\n",
      "🏃 View run puzzled-horse-10 at: http://127.0.0.1:5000/#/experiments/412400933482959348/runs/7a72e636ac894239bc56d93a40f9fe21\n",
      "🧪 View experiment at: http://127.0.0.1:5000/#/experiments/412400933482959348\n",
      "🏃 View run thundering-ape-793 at: http://127.0.0.1:5000/#/experiments/412400933482959348/runs/9a05dbc579fd4060bdb42d5fdd3330f1\n",
      "🧪 View experiment at: http://127.0.0.1:5000/#/experiments/412400933482959348\n",
      "🏃 View run whimsical-colt-461 at: http://127.0.0.1:5000/#/experiments/412400933482959348/runs/f46c6a55863b488c971cde31532e81be\n",
      "🧪 View experiment at: http://127.0.0.1:5000/#/experiments/412400933482959348\n",
      "🏃 View run righteous-fawn-421 at: http://127.0.0.1:5000/#/experiments/412400933482959348/runs/0d9c0b8d05184b0a967497ffe919889a\n",
      "🧪 View experiment at: http://127.0.0.1:5000/#/experiments/412400933482959348\n",
      "🏃 View run fortunate-eel-731 at: http://127.0.0.1:5000/#/experiments/412400933482959348/runs/8cf4f16115ab4b53938de2d178d27437\n",
      "🧪 View experiment at: http://127.0.0.1:5000/#/experiments/412400933482959348\n",
      "🏃 View run zealous-shad-127 at: http://127.0.0.1:5000/#/experiments/412400933482959348/runs/a469c166f9bd4fb2ba5eda9ca076a11b\n",
      "🧪 View experiment at: http://127.0.0.1:5000/#/experiments/412400933482959348\n",
      "🏃 View run agreeable-hog-217 at: http://127.0.0.1:5000/#/experiments/412400933482959348/runs/80a3c88123a24457ab492fa96b765855\n",
      "🧪 View experiment at: http://127.0.0.1:5000/#/experiments/412400933482959348\n",
      "🏃 View run abrasive-trout-134 at: http://127.0.0.1:5000/#/experiments/412400933482959348/runs/de1428142b5048419463d8507a384eed\n",
      "🧪 View experiment at: http://127.0.0.1:5000/#/experiments/412400933482959348\n",
      "🏃 View run upbeat-roo-269 at: http://127.0.0.1:5000/#/experiments/412400933482959348/runs/dcf3787f4b934c3d89b8dd8196f31c73\n",
      "🧪 View experiment at: http://127.0.0.1:5000/#/experiments/412400933482959348\n",
      "🏃 View run orderly-worm-53 at: http://127.0.0.1:5000/#/experiments/412400933482959348/runs/b25af52a6865422681e084a6833b9817\n",
      "🧪 View experiment at: http://127.0.0.1:5000/#/experiments/412400933482959348\n",
      "🏃 View run righteous-fowl-156 at: http://127.0.0.1:5000/#/experiments/412400933482959348/runs/7cafc145f7094aa7992348b9276ba5d7\n",
      "🧪 View experiment at: http://127.0.0.1:5000/#/experiments/412400933482959348\n",
      "🏃 View run funny-moose-530 at: http://127.0.0.1:5000/#/experiments/412400933482959348/runs/dbaf21c18c2f415096b916b6ab1a9984\n",
      "🧪 View experiment at: http://127.0.0.1:5000/#/experiments/412400933482959348\n",
      "🏃 View run rogue-hound-409 at: http://127.0.0.1:5000/#/experiments/412400933482959348/runs/ddb80308387f4d35b79f26efd76f5c04\n",
      "🧪 View experiment at: http://127.0.0.1:5000/#/experiments/412400933482959348\n",
      "🏃 View run gregarious-yak-653 at: http://127.0.0.1:5000/#/experiments/412400933482959348/runs/b066206e7ede4318abb547e59b2366c8\n",
      "🧪 View experiment at: http://127.0.0.1:5000/#/experiments/412400933482959348\n",
      "🏃 View run honorable-mouse-456 at: http://127.0.0.1:5000/#/experiments/412400933482959348/runs/0ceedff759244ee488c6d983b56bbaa3\n",
      "🧪 View experiment at: http://127.0.0.1:5000/#/experiments/412400933482959348\n",
      "🏃 View run gregarious-moth-231 at: http://127.0.0.1:5000/#/experiments/412400933482959348/runs/5efe3846e458482c993ef8c6f4d47740\n",
      "🧪 View experiment at: http://127.0.0.1:5000/#/experiments/412400933482959348\n",
      "🏃 View run flawless-rat-232 at: http://127.0.0.1:5000/#/experiments/412400933482959348/runs/1ee2debd43bc4a508100bdddd48299b1\n",
      "🧪 View experiment at: http://127.0.0.1:5000/#/experiments/412400933482959348\n",
      "🏃 View run fearless-penguin-529 at: http://127.0.0.1:5000/#/experiments/412400933482959348/runs/7f00c6e9d5aa4f288317c5b8ad9bd103\n",
      "🧪 View experiment at: http://127.0.0.1:5000/#/experiments/412400933482959348\n",
      "🏃 View run bemused-finch-810 at: http://127.0.0.1:5000/#/experiments/412400933482959348/runs/0bd62c571d18486687b18d6a4329d7a7\n",
      "🧪 View experiment at: http://127.0.0.1:5000/#/experiments/412400933482959348\n",
      "🏃 View run exultant-gnat-611 at: http://127.0.0.1:5000/#/experiments/412400933482959348/runs/4ca43c79b3de421887802779fb7e35c9\n",
      "🧪 View experiment at: http://127.0.0.1:5000/#/experiments/412400933482959348\n",
      "🏃 View run overjoyed-moth-178 at: http://127.0.0.1:5000/#/experiments/412400933482959348/runs/0d558ba3396843da987b2a1fd0640f8f\n",
      "🧪 View experiment at: http://127.0.0.1:5000/#/experiments/412400933482959348\n",
      "🏃 View run illustrious-ox-256 at: http://127.0.0.1:5000/#/experiments/412400933482959348/runs/fa67f3da621b4064815e6e3b2dec418b\n",
      "🧪 View experiment at: http://127.0.0.1:5000/#/experiments/412400933482959348\n",
      "🏃 View run dapper-mole-292 at: http://127.0.0.1:5000/#/experiments/412400933482959348/runs/8fb33e5fb91e42328a89c28338e6e01c\n",
      "🧪 View experiment at: http://127.0.0.1:5000/#/experiments/412400933482959348\n",
      "🏃 View run amazing-pug-982 at: http://127.0.0.1:5000/#/experiments/412400933482959348/runs/ae6def6d4d7744f089b7af544de8850e\n",
      "🧪 View experiment at: http://127.0.0.1:5000/#/experiments/412400933482959348\n",
      "🏃 View run rogue-squid-858 at: http://127.0.0.1:5000/#/experiments/412400933482959348/runs/f7ca8aaa20f440a3a54028fef9ab8453\n",
      "🧪 View experiment at: http://127.0.0.1:5000/#/experiments/412400933482959348\n",
      "🏃 View run painted-sheep-893 at: http://127.0.0.1:5000/#/experiments/412400933482959348/runs/73eb3b92bc17400b94edbf159af72cd2\n",
      "🧪 View experiment at: http://127.0.0.1:5000/#/experiments/412400933482959348\n",
      "🏃 View run fortunate-crow-385 at: http://127.0.0.1:5000/#/experiments/412400933482959348/runs/2be339fb4e6a46e89c7ef0ea2b18224c\n",
      "🧪 View experiment at: http://127.0.0.1:5000/#/experiments/412400933482959348\n",
      "🏃 View run powerful-zebra-836 at: http://127.0.0.1:5000/#/experiments/412400933482959348/runs/f6376351a88340a5bb9ea0b2a443a581\n",
      "🧪 View experiment at: http://127.0.0.1:5000/#/experiments/412400933482959348\n",
      "🏃 View run upbeat-moth-460 at: http://127.0.0.1:5000/#/experiments/412400933482959348/runs/71dc8b776da04bb78f100c7fb541d7da\n",
      "🧪 View experiment at: http://127.0.0.1:5000/#/experiments/412400933482959348\n",
      "🏃 View run efficient-snipe-175 at: http://127.0.0.1:5000/#/experiments/412400933482959348/runs/8a5c9af1af9d462ea07430109efff7a1\n",
      "🧪 View experiment at: http://127.0.0.1:5000/#/experiments/412400933482959348\n",
      "🏃 View run serious-midge-375 at: http://127.0.0.1:5000/#/experiments/412400933482959348/runs/e3285976f492474ab59256334c98cfbc\n",
      "🧪 View experiment at: http://127.0.0.1:5000/#/experiments/412400933482959348\n",
      "🏃 View run fearless-roo-576 at: http://127.0.0.1:5000/#/experiments/412400933482959348/runs/b3f5c4516ae8496a87c638dc9cf073f1\n",
      "🧪 View experiment at: http://127.0.0.1:5000/#/experiments/412400933482959348\n",
      "🏃 View run resilient-crab-893 at: http://127.0.0.1:5000/#/experiments/412400933482959348/runs/1d11344ff3a7449c8971996136f433d3\n",
      "🧪 View experiment at: http://127.0.0.1:5000/#/experiments/412400933482959348\n",
      "🏃 View run brawny-robin-917 at: http://127.0.0.1:5000/#/experiments/412400933482959348/runs/f477b6130bd2435f87e1ee93e5154d0a\n",
      "🧪 View experiment at: http://127.0.0.1:5000/#/experiments/412400933482959348\n",
      "🏃 View run useful-mule-219 at: http://127.0.0.1:5000/#/experiments/412400933482959348/runs/ca92f0e450e84a70ba96a13f2e83fe92\n",
      "🧪 View experiment at: http://127.0.0.1:5000/#/experiments/412400933482959348\n",
      "🏃 View run thoughtful-chimp-362 at: http://127.0.0.1:5000/#/experiments/412400933482959348/runs/0cda8e14b18b404f95f2a8bd07aa4b94\n",
      "🧪 View experiment at: http://127.0.0.1:5000/#/experiments/412400933482959348\n",
      "🏃 View run nervous-slug-126 at: http://127.0.0.1:5000/#/experiments/412400933482959348/runs/fc4c7f1ccd474d6ba87f88ca62eef99d\n",
      "🧪 View experiment at: http://127.0.0.1:5000/#/experiments/412400933482959348\n"
     ]
    }
   ],
   "source": [
    "n_estimators = [50, 100, 150, 200]\n",
    "max_depths = [2, 5, 10]\n",
    "max_features = [5, 8, 10, 13]\n",
    "\n",
    "for n_estimator in n_estimators:\n",
    "    for max_depth in max_depths:\n",
    "        for max_feature in max_features:\n",
    "            train_model_with_hyperparameters(n_estimator, max_depth, max_feature)"
   ]
  },
  {
   "cell_type": "markdown",
   "id": "4c74535b",
   "metadata": {},
   "source": [
    "#### <font color=red>3-2. GridSearch 혹은 RandomSearch를 활용하여 모델 최적화</font>"
   ]
  },
  {
   "cell_type": "code",
   "execution_count": 18,
   "id": "9be10bf3",
   "metadata": {},
   "outputs": [
    {
     "name": "stderr",
     "output_type": "stream",
     "text": [
      "2025/07/15 19:27:50 INFO mlflow.sklearn.utils: Logging the 5 best runs, no runs will be omitted.\n"
     ]
    },
    {
     "name": "stdout",
     "output_type": "stream",
     "text": [
      "🏃 View run nervous-fowl-833 at: http://127.0.0.1:5000/#/experiments/412400933482959348/runs/36ff20ac920c4eb0ba1b2110a4fd2f46\n",
      "🧪 View experiment at: http://127.0.0.1:5000/#/experiments/412400933482959348\n",
      "🏃 View run serious-pug-809 at: http://127.0.0.1:5000/#/experiments/412400933482959348/runs/fa793f1867a342c1802cffe3f0acc486\n",
      "🧪 View experiment at: http://127.0.0.1:5000/#/experiments/412400933482959348\n",
      "🏃 View run worried-midge-114 at: http://127.0.0.1:5000/#/experiments/412400933482959348/runs/305d3c20fb6b4b9c9da037060961897e\n",
      "🧪 View experiment at: http://127.0.0.1:5000/#/experiments/412400933482959348\n",
      "🏃 View run funny-lynx-650 at: http://127.0.0.1:5000/#/experiments/412400933482959348/runs/efb3fab807954ef3a34fbf5539a21af9\n",
      "🧪 View experiment at: http://127.0.0.1:5000/#/experiments/412400933482959348\n",
      "🏃 View run salty-sloth-759 at: http://127.0.0.1:5000/#/experiments/412400933482959348/runs/4cb11270667d48e3bb03f8ee8b97c24e\n",
      "🧪 View experiment at: http://127.0.0.1:5000/#/experiments/412400933482959348\n"
     ]
    }
   ],
   "source": [
    "from sklearn.model_selection import GridSearchCV\n",
    "\n",
    "with mlflow.start_run():\n",
    "    model_grid = GridSearchCV(\n",
    "        RandomForestClassifier(),\n",
    "        {'n_estimators':[100, 200], 'max_depth':[20, 25]},\n",
    "        )\n",
    "    model_grid.fit(X_train, y_train)\n",
    "    y_pred = model_grid.predict(X_test)\n",
    "    accuracy = accuracy_score(y_test, y_pred)\n",
    "    prf = precision_recall_fscore_support(y_test, y_pred, average='binary')\n",
    "    \n",
    "    mlflow.log_metric('accuracy_on_test', accuracy)\n",
    "    mlflow.log_metric('precision_on_test', prf[0])\n",
    "    mlflow.log_metric('recall_on_test', prf[1])\n",
    "    mlflow.log_metric('f1score_on_test', prf[2])"
   ]
  },
  {
   "cell_type": "code",
   "execution_count": null,
   "id": "89af2c80",
   "metadata": {},
   "outputs": [],
   "source": []
  }
 ],
 "metadata": {
  "kernelspec": {
   "display_name": "torch",
   "language": "python",
   "name": "python3"
  },
  "language_info": {
   "codemirror_mode": {
    "name": "ipython",
    "version": 3
   },
   "file_extension": ".py",
   "mimetype": "text/x-python",
   "name": "python",
   "nbconvert_exporter": "python",
   "pygments_lexer": "ipython3",
   "version": "3.11.8"
  }
 },
 "nbformat": 4,
 "nbformat_minor": 5
}
