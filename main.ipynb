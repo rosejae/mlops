{
 "cells": [
  {
   "cell_type": "code",
   "execution_count": null,
   "id": "c48a6a68",
   "metadata": {},
   "outputs": [
    {
     "name": "stderr",
     "output_type": "stream",
     "text": [
      "2025/07/10 18:39:59 WARNING mlflow.utils.autologging_utils: Encountered unexpected error during sklearn autologging: When an mlflow-artifacts URI was supplied, the tracking URI must be a valid http or https URI, but it was currently set to .\\mlruns. Perhaps you forgot to set the tracking URI to the running MLflow server. To set the tracking URI, use either of the following methods:\n",
      "1. Set the MLFLOW_TRACKING_URI environment variable to the desired tracking URI. `export MLFLOW_TRACKING_URI=http://localhost:5000`\n",
      "2. Set the tracking URI programmatically by calling `mlflow.set_tracking_uri`. `mlflow.set_tracking_uri('http://localhost:5000')`\n"
     ]
    }
   ],
   "source": [
    "import mlflow\n",
    "import mlflow.sklearn\n",
    "\n",
    "from sklearn.datasets import load_diabetes\n",
    "from sklearn.model_selection import train_test_split\n",
    "from sklearn.ensemble import RandomForestRegressor\n",
    "from sklearn.metrics import mean_squared_error, r2_score\n",
    "\n",
    "mlflow.set_tracking_uri(\"http://127.0.0.1:5000\")\n",
    "mlflow.sklearn.autolog()\n",
    "\n",
    "data_diabetes = load_diabetes()\n",
    "X_train, X_test, y_train, y_test = train_test_split(data_diabetes.data, data_diabetes.target)\n",
    "\n",
    "with mlflow.start_run():\n",
    "    reg = RandomForestRegressor(n_estimators=100, max_depth=20, max_features=10)\n",
    "    reg.fit(X_train, y_train)\n",
    "\n",
    "    predictions = reg.predict(X_test)\n",
    "    mse = mean_squared_error(y_test, predictions)\n",
    "    r2 = r2_score(y_test, predictions)\n",
    "    mlflow.log_metric(\"mse\", mse)\n",
    "    mlflow.log_metric(\"r2\", r2)"
   ]
  },
  {
   "cell_type": "code",
   "execution_count": 4,
   "id": "4c8cf6d2",
   "metadata": {},
   "outputs": [
    {
     "data": {
      "text/plain": [
       "array([111.61907108, 198.28204964, 134.74911547, 155.78365972,\n",
       "       165.83294951, 200.1927657 , 252.42146526, 179.57390988,\n",
       "        78.69806248, 152.18333478, 155.41523224, 156.90808969,\n",
       "       173.7142654 , 201.76758838, 114.95548558,  82.36822607,\n",
       "       126.02507439,  85.93469798,  84.94108015, 222.01951343,\n",
       "       227.02037037, 197.16068279, 168.1402615 , 180.26851095,\n",
       "        94.85871452, 188.78980904, 163.64283761,  95.38577772,\n",
       "       213.9556687 ,  93.06321997, 105.76762777, 132.78418391,\n",
       "       118.76474454, 199.42836094,  84.43328965, 128.30930298,\n",
       "        90.98324483, 199.86380628, 199.65836934, 138.43816068,\n",
       "       145.66793651, 145.62544611, 196.13220922, 223.78875999,\n",
       "       232.98143465, 111.03171797, 103.2257619 , 230.94199484,\n",
       "       164.69633689, 211.42554004,  90.13432281, 132.39929389,\n",
       "       152.0918182 , 199.47035254, 173.42286962,  91.05052548,\n",
       "        70.01034969, 187.38974567,  79.96738207, 167.75749159,\n",
       "        93.60388934, 129.44202342, 177.29999228, 187.22842658,\n",
       "       244.43994486, 190.66050533,  95.06086176, 241.09283331,\n",
       "       126.23811687, 129.68755056,  77.93053592, 109.78053571,\n",
       "        91.23667911, 158.90226636, 167.38319688, 154.8200557 ,\n",
       "       157.88594856, 185.84109073, 117.03340548, 124.03801348,\n",
       "       123.26814815, 115.54355929, 173.77700619, 199.76371447,\n",
       "       202.41375491,  91.25525984, 232.05688965, 246.87924272,\n",
       "       113.44239615, 182.72058365, 169.02574074, 159.53314859,\n",
       "       108.95736406,  85.36202626, 132.24560015,  80.87832729,\n",
       "        97.15417386, 241.12304924, 192.55783477, 226.36255851,\n",
       "       186.0188799 , 149.0786729 ,  95.46987767,  90.49865196,\n",
       "       148.69255772,  85.25535394, 106.88312821, 164.19528829,\n",
       "       111.85742387, 112.95167659, 183.81741643])"
      ]
     },
     "execution_count": 4,
     "metadata": {},
     "output_type": "execute_result"
    }
   ],
   "source": [
    "predictions"
   ]
  },
  {
   "cell_type": "code",
   "execution_count": null,
   "id": "81fe3f25",
   "metadata": {},
   "outputs": [],
   "source": []
  },
  {
   "cell_type": "code",
   "execution_count": 1,
   "id": "2e91f103",
   "metadata": {},
   "outputs": [],
   "source": [
    "import numpy as np\n",
    "\n",
    "a = np.array([[1, 2], [3, 4]])\n",
    "b = np.array([[5, 6]])"
   ]
  },
  {
   "cell_type": "code",
   "execution_count": 2,
   "id": "defc1b85",
   "metadata": {},
   "outputs": [
    {
     "data": {
      "text/plain": [
       "array([[1, 2],\n",
       "       [3, 4],\n",
       "       [5, 6]])"
      ]
     },
     "execution_count": 2,
     "metadata": {},
     "output_type": "execute_result"
    }
   ],
   "source": [
    "np.vstack([a, b])"
   ]
  },
  {
   "cell_type": "code",
   "execution_count": 3,
   "id": "19afe158",
   "metadata": {},
   "outputs": [
    {
     "data": {
      "text/plain": [
       "array([[1, 2],\n",
       "       [3, 4],\n",
       "       [5, 6]])"
      ]
     },
     "execution_count": 3,
     "metadata": {},
     "output_type": "execute_result"
    }
   ],
   "source": [
    "np.concatenate([a, b], axis=0)"
   ]
  },
  {
   "cell_type": "code",
   "execution_count": 4,
   "id": "5e09d8cd",
   "metadata": {},
   "outputs": [],
   "source": [
    "a = np.array([1, 2, 3])\n",
    "b = np.array([4, 5, 6])"
   ]
  },
  {
   "cell_type": "code",
   "execution_count": 5,
   "id": "1339bfd3",
   "metadata": {},
   "outputs": [
    {
     "name": "stdout",
     "output_type": "stream",
     "text": [
      "[[1 2 3]\n",
      " [4 5 6]]\n"
     ]
    }
   ],
   "source": [
    "print(np.vstack([a, b]))"
   ]
  },
  {
   "cell_type": "code",
   "execution_count": 6,
   "id": "60bc77c3",
   "metadata": {},
   "outputs": [
    {
     "data": {
      "text/plain": [
       "array([1, 2, 3, 4, 5, 6])"
      ]
     },
     "execution_count": 6,
     "metadata": {},
     "output_type": "execute_result"
    }
   ],
   "source": [
    "np.concatenate([a, b], axis=0)"
   ]
  },
  {
   "cell_type": "code",
   "execution_count": 7,
   "id": "2528b82b",
   "metadata": {},
   "outputs": [
    {
     "ename": "AxisError",
     "evalue": "axis 1 is out of bounds for array of dimension 1",
     "output_type": "error",
     "traceback": [
      "\u001b[1;31m---------------------------------------------------------------------------\u001b[0m",
      "\u001b[1;31mAxisError\u001b[0m                                 Traceback (most recent call last)",
      "Cell \u001b[1;32mIn[7], line 1\u001b[0m\n\u001b[1;32m----> 1\u001b[0m \u001b[43mnp\u001b[49m\u001b[38;5;241;43m.\u001b[39;49m\u001b[43mconcatenate\u001b[49m\u001b[43m(\u001b[49m\u001b[43m[\u001b[49m\u001b[43ma\u001b[49m\u001b[43m,\u001b[49m\u001b[43m \u001b[49m\u001b[43mb\u001b[49m\u001b[43m]\u001b[49m\u001b[43m,\u001b[49m\u001b[43m \u001b[49m\u001b[43maxis\u001b[49m\u001b[38;5;241;43m=\u001b[39;49m\u001b[38;5;241;43m1\u001b[39;49m\u001b[43m)\u001b[49m\n",
      "\u001b[1;31mAxisError\u001b[0m: axis 1 is out of bounds for array of dimension 1"
     ]
    }
   ],
   "source": [
    "np.concatenate([a, b], axis=1)"
   ]
  },
  {
   "cell_type": "code",
   "execution_count": null,
   "id": "13dbff76",
   "metadata": {},
   "outputs": [],
   "source": []
  }
 ],
 "metadata": {
  "kernelspec": {
   "display_name": "torch_env",
   "language": "python",
   "name": "python3"
  },
  "language_info": {
   "codemirror_mode": {
    "name": "ipython",
    "version": 3
   },
   "file_extension": ".py",
   "mimetype": "text/x-python",
   "name": "python",
   "nbconvert_exporter": "python",
   "pygments_lexer": "ipython3",
   "version": "3.10.16"
  }
 },
 "nbformat": 4,
 "nbformat_minor": 5
}
