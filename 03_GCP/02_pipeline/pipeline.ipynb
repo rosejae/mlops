{
 "cells": [
  {
   "cell_type": "code",
   "execution_count": null,
   "id": "5bf5c208",
   "metadata": {},
   "outputs": [],
   "source": [
    "!pip install --upgrade 'protobuf<4' google-cloud-aiplatform google-cloud-storage 'kfp<2' 'google-cloud-pipeline-components<2'"
   ]
  },
  {
   "cell_type": "code",
   "execution_count": null,
   "id": "0cccacc2",
   "metadata": {},
   "outputs": [],
   "source": [
    "!gcloud config list"
   ]
  },
  {
   "cell_type": "code",
   "execution_count": null,
   "id": "96239a2f",
   "metadata": {},
   "outputs": [],
   "source": [
    "PROJECT_ID =\"ai-service-467312\"\n",
    "REGION = \"us-central1\"\n",
    "BUCKET_URI = f\"gs://fs-practice-{PROJECT_ID}\"\n",
    "\n",
    "!gcloud config set project {PROJECT_ID}\n",
    "!gsutil mb -l {REGION} -p {PROJECT_ID} {BUCKET_URI}\n",
    "!gsutil -u {PROJECT_ID} cp gs://aju-dev-demos-codelabs/bikes_weather/* {BUCKET_URI}/DATA/"
   ]
  },
  {
   "cell_type": "code",
   "execution_count": null,
   "id": "c06a5035",
   "metadata": {},
   "outputs": [],
   "source": [
    "shell_output = !gcloud auth list 2>/dev/null\n",
    "SERVICE_ACCOUNT = shell_output[2].replace(\"*\", \"\").strip()\n",
    "!gsutil iam ch serviceAccount:{SERVICE_ACCOUNT}:roles/storage.objectCreator $BUCKET_URI\n",
    "!gsutil iam ch serviceAccount:{SERVICE_ACCOUNT}:roles/storage.objectViewer $BUCKET_URI"
   ]
  },
  {
   "cell_type": "code",
   "execution_count": null,
   "id": "4625f96b",
   "metadata": {},
   "outputs": [],
   "source": [
    "from typing import Any, Dict, List\n",
    "\n",
    "import google.cloud.aiplatform as aip\n",
    "import kfp\n",
    "from kfp.v2 import compiler\n",
    "\n",
    "import random\n",
    "import string"
   ]
  },
  {
   "cell_type": "code",
   "execution_count": null,
   "id": "e4874239",
   "metadata": {},
   "outputs": [],
   "source": [
    "PIPELINE_ROOT = \"{}/pipeline_root/training\".format(BUCKET_URI)\n",
    "\n",
    "aip.init(project=PROJECT_ID, staging_bucket=BUCKET_URI)"
   ]
  },
  {
   "cell_type": "code",
   "execution_count": null,
   "id": "102e42c2",
   "metadata": {},
   "outputs": [],
   "source": [
    "!echo $BUCKET_URI"
   ]
  },
  {
   "cell_type": "code",
   "execution_count": null,
   "id": "153fb5a9",
   "metadata": {},
   "outputs": [],
   "source": [
    "!gsutil ls {BUCKET_URI}/DATA/"
   ]
  },
  {
   "cell_type": "code",
   "execution_count": null,
   "id": "73785130",
   "metadata": {},
   "outputs": [],
   "source": [
    "hp_dict: str = '{\"num_hidden_layers\": 1, \"hidden_size\": 16, \"learning_rate\": 0.01, \"epochs\": 1, \"steps_per_epoch\": -1}'\n",
    "data_dir: str = f\"{BUCKET_URI}/\"\n",
    "TRAINER_ARGS = [\"--data-dir\", data_dir, \"--hptune-dict\", hp_dict]"
   ]
  },
  {
   "cell_type": "code",
   "execution_count": null,
   "id": "19fdee67",
   "metadata": {},
   "outputs": [],
   "source": [
    "UUID = \"\".join(random.choices(string.ascii_lowercase + string.digits, k=8))\n",
    "WORKING_DIR = f\"{PIPELINE_ROOT}/{UUID}\"\n",
    "MODEL_DISPLAY_NAME = f\"train_deploy{UUID}\"\n",
    "print(TRAINER_ARGS, WORKING_DIR, MODEL_DISPLAY_NAME)"
   ]
  },
  {
   "cell_type": "code",
   "execution_count": null,
   "id": "35427fd8",
   "metadata": {},
   "outputs": [],
   "source": [
    "DISPLAY_NAME = \"fc_first_pipeline_job\""
   ]
  },
  {
   "cell_type": "code",
   "execution_count": null,
   "id": "285b9e1c",
   "metadata": {},
   "outputs": [],
   "source": [
    "@kfp.dsl.pipeline(name=\"first-fc-train-endpoint-deploy\" + UUID)\n",
    "def pipeline(\n",
    "    project: str = PROJECT_ID, \n",
    "    model_display_name: str = MODEL_DISPLAY_NAME, \n",
    "    serving_container_image_uri: str = \"us-docker.pkg.dev/vertex-ai/prediction/tf2-cpu.2-9:latest\",\n",
    "): \n",
    "                  \n",
    "    from google_cloud_pipeline_components.types import artifact_types\n",
    "    from google_cloud_pipeline_components.v1.custom_job import CustomTrainingJobOp\n",
    "    from google_cloud_pipeline_components.v1.endpoint import EndpointCreateOp, ModelDeployOp\n",
    "    from google_cloud_pipeline_components.v1.model import ModelUploadOp\n",
    "    from kfp.v2.components import importer_node\n",
    "    \n",
    "    custom_job_task = CustomTrainingJobOp(\n",
    "        project=project,\n",
    "        display_name=\"model-training\",\n",
    "        worker_pool_specs=[\n",
    "            {\n",
    "                \"containerSpec\": {\n",
    "                    \"args\": TRAINER_ARGS,\n",
    "                    \"env\": [{\"name\": \"AIP_MODEL_DIR\", \"value\": WORKING_DIR}],\n",
    "                    \"imageUri\": \"gcr.io/google-samples/bw-cc-train:latest\",\n",
    "                },\n",
    "                \"replicaCount\": \"1\",\n",
    "                \"machineSpec\": {\n",
    "                    \"machineType\": \"n1-standard-16\"\n",
    "                },\n",
    "            }\n",
    "        ],\n",
    "    )\n",
    "    \n",
    "    import_unmanaged_model_task = importer_node.importer(\n",
    "        artifact_uri=WORKING_DIR,\n",
    "        artifact_class=artifact_types.UnmanagedContainerModel,\n",
    "        metadata={\n",
    "            \"containerSpec\": {\n",
    "                \"imageUri\": \"us-docker.pkg.dev/vertex-ai/prediction/tf2-cpu.2-9:latest\",\n",
    "            },\n",
    "        },\n",
    "    ).after(custom_job_task)\n",
    "\n",
    "    model_upload_op = ModelUploadOp(\n",
    "        project=project,\n",
    "        display_name=model_display_name,\n",
    "        unmanaged_container_model=import_unmanaged_model_task.outputs[\"artifact\"],\n",
    "    )\n",
    "    \n",
    "    model_upload_op.after(import_unmanaged_model_task)\n",
    "    \n",
    "    endpoint_create_op = EndpointCreateOp(\n",
    "        project=project,\n",
    "        display_name=\"pipelines-created-endpoint\",\n",
    "    )\n",
    "    \n",
    "    ModelDeployOp(\n",
    "        endpoint=endpoint_create_op.outputs[\"endpoint\"],\n",
    "        model=model_upload_op.outputs[\"model\"],\n",
    "        deployed_model_display_name=model_display_name,\n",
    "        dedicated_resources_machine_type=\"n1-standard-16\",\n",
    "        dedicated_resources_min_replica_count=1,\n",
    "        dedicated_resources_max_replica_count=1,\n",
    "    )\n",
    "\n",
    "                  "
   ]
  },
  {
   "cell_type": "code",
   "execution_count": null,
   "id": "c1637a63",
   "metadata": {},
   "outputs": [],
   "source": [
    "compiler.Compiler().compile(\n",
    "    pipeline_func=pipeline,\n",
    "    package_path=\"fc_first_model_training_pipeline.json\",\n",
    ")"
   ]
  },
  {
   "cell_type": "code",
   "execution_count": null,
   "id": "261f2f70",
   "metadata": {},
   "outputs": [],
   "source": [
    "job = aip.PipelineJob(\n",
    "    display_name=DISPLAY_NAME,\n",
    "    template_path=\"fc_first_model_training_pipeline.json\",\n",
    "    pipeline_root=PIPELINE_ROOT,\n",
    "    enable_caching=False,\n",
    ")"
   ]
  },
  {
   "cell_type": "code",
   "execution_count": null,
   "id": "6a77f1e6",
   "metadata": {},
   "outputs": [],
   "source": [
    "job.run(service_account=SERVICE_ACCOUNT)"
   ]
  },
  {
   "cell_type": "code",
   "execution_count": null,
   "id": "3b1a7c9e",
   "metadata": {},
   "outputs": [],
   "source": [
    "def get_task_detail(\n",
    "    task_details: List[Dict[str, Any]], task_name: str\n",
    ") -> List[Dict[str, Any]]:\n",
    "    for task_detail in task_details:\n",
    "        if task_detail.task_name == task_name:\n",
    "            return task_detail\n",
    "\n",
    "pipeline_task_details = (\n",
    "    job.gca_resource.job_detail.task_details\n",
    ")\n",
    "\n",
    "pipeline_task_details"
   ]
  },
  {
   "cell_type": "code",
   "execution_count": null,
   "id": "01e59812",
   "metadata": {},
   "outputs": [],
   "source": [
    "endpoint_task = get_task_detail(pipeline_task_details, \"endpoint-create\")\n",
    "endpoint_resourceName = (\n",
    "    endpoint_task.outputs[\"endpoint\"].artifacts[0].metadata[\"resourceName\"]\n",
    ")\n",
    "\n",
    "endpoint = aip.Endpoint(endpoint_resourceName)\n",
    "endpoint"
   ]
  },
  {
   "cell_type": "code",
   "execution_count": null,
   "id": "0eb68a39",
   "metadata": {},
   "outputs": [],
   "source": [
    "endpoint.undeploy_all()\n",
    "endpoint.delete()"
   ]
  },
  {
   "cell_type": "code",
   "execution_count": null,
   "id": "3268050c",
   "metadata": {},
   "outputs": [],
   "source": [
    "model_task = get_task_detail(pipeline_task_details, \"model-upload\")\n",
    "model_resourceName = model_task.outputs[\"model\"].artifacts[0].metadata[\"resourceName\"]\n",
    "model = aip.Model(model_resourceName)\n",
    "model.delete()"
   ]
  }
 ],
 "metadata": {
  "language_info": {
   "name": "python"
  }
 },
 "nbformat": 4,
 "nbformat_minor": 5
}
