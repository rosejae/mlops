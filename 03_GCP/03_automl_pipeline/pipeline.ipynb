{
 "cells": [
  {
   "cell_type": "code",
   "execution_count": null,
   "id": "640e181d",
   "metadata": {},
   "outputs": [],
   "source": [
    "!pip3 install --upgrade --quiet google-cloud-aiplatform kfp google-cloud-pipeline-components==2.4.1 google-cloud-storage"
   ]
  },
  {
   "cell_type": "code",
   "execution_count": null,
   "id": "3f8563dd",
   "metadata": {},
   "outputs": [],
   "source": [
    "!gcloud config list"
   ]
  },
  {
   "cell_type": "code",
   "execution_count": null,
   "id": "4dcbb46a",
   "metadata": {},
   "outputs": [],
   "source": [
    "PROJECT_ID = \"ai-service-467312\"\n",
    "REGION = \"us-central1\"\n",
    "BUCKET_URI = f\"gs://fs-practice-{PROJECT_ID}\""
   ]
  },
  {
   "cell_type": "code",
   "execution_count": null,
   "id": "e2bea70a",
   "metadata": {},
   "outputs": [],
   "source": [
    "! gcloud config set project {PROJECT_ID}\n",
    "! gsutil mb -l {REGION} -p {PROJECT_ID} {BUCKET_URI}"
   ]
  },
  {
   "cell_type": "code",
   "execution_count": null,
   "id": "5db064ba",
   "metadata": {},
   "outputs": [],
   "source": [
    "shell_output = !gcloud auth list 2>/dev/null\n",
    "SERVICE_ACCOUNT = shell_output[2].replace(\"*\", \"\").strip()\n",
    "! gsutil iam ch serviceAccount:{SERVICE_ACCOUNT}:roles/storage.objectCreator $BUCKET_URI\n",
    "! gsutil iam ch serviceAccount:{SERVICE_ACCOUNT}:roles/storage.objectViewer $BUCKET_URI"
   ]
  },
  {
   "cell_type": "code",
   "execution_count": null,
   "id": "846e0480",
   "metadata": {},
   "outputs": [],
   "source": [
    "!gsutil ls gs://cloud-samples-data/vision/automl_classification/flowers/all_data_v2.csv"
   ]
  },
  {
   "cell_type": "code",
   "execution_count": null,
   "id": "8b52ff2e",
   "metadata": {},
   "outputs": [],
   "source": [
    "from typing import Any, Dict, List\n",
    "\n",
    "import google.cloud.aiplatform as aip\n",
    "import kfp\n",
    "from kfp.v2 import compiler\n",
    "\n",
    "import random\n",
    "import string"
   ]
  },
  {
   "cell_type": "code",
   "execution_count": null,
   "id": "487825ba",
   "metadata": {},
   "outputs": [],
   "source": [
    "PIPELINE_ROOT = \"{}/pipeline_root/automl_training\".format(BUCKET_URI)\n",
    "\n",
    "aip.init(project=PROJECT_ID, staging_bucket=BUCKET_URI)"
   ]
  },
  {
   "cell_type": "code",
   "execution_count": null,
   "id": "bac56298",
   "metadata": {},
   "outputs": [],
   "source": [
    "@kfp.dsl.pipeline(name=\"auto-fc-first-flower-clf\")\n",
    "def pipeline(project: str = PROJECT_ID, region: str = REGION):\n",
    "    \n",
    "    from google_cloud_pipeline_components.v1.automl.training_job import AutoMLImageTrainingJobRunOp\n",
    "    from google_cloud_pipeline_components.v1.dataset import ImageDatasetCreateOp\n",
    "    from google_cloud_pipeline_components.v1.endpoint import EndpointCreateOp, ModelDeployOp\n",
    "\n",
    "    ds_op = ImageDatasetCreateOp(\n",
    "        project=project,\n",
    "        display_name=\"flowers_dataset_fc\",\n",
    "        gcs_source=\"gs://cloud-samples-data/vision/automl_classification/flowers/all_data_v2.csv\",\n",
    "        import_schema_uri=aip.schema.dataset.ioformat.image.single_label_classification,\n",
    "    )\n",
    "    \n",
    "    training_job_run_op = AutoMLImageTrainingJobRunOp(\n",
    "        project=project,\n",
    "        display_name=\"automl-fc-first-flower-clf\",\n",
    "        prediction_type=\"classification\",\n",
    "        model_type=\"CLOUD\",\n",
    "        dataset=ds_op.outputs[\"dataset\"],\n",
    "        model_display_name=\"automl-fc-first-clf\",\n",
    "        training_fraction_split=0.7,\n",
    "        validation_fraction_split=0.15,\n",
    "        test_fraction_split=0.15,\n",
    "        budget_milli_node_hours=10000,\n",
    "    )\n",
    "    \n",
    "    training_job_run_op.after(ds_op)\n",
    "    \n",
    "    endpoint_op = EndpointCreateOp(\n",
    "        project=project,\n",
    "        location=region,\n",
    "        display_name=\"automl-fc-first-flower-clf\",\n",
    "    ) \n",
    "    \n",
    "    ModelDeployOp(\n",
    "        model=training_job_run_op.outputs[\"model\"],\n",
    "        endpoint=endpoint_op.outputs[\"endpoint\"],\n",
    "        automatic_resources_min_replica_count=1,\n",
    "        automatic_resources_max_replica_count=1,\n",
    "    )"
   ]
  },
  {
   "cell_type": "code",
   "execution_count": null,
   "id": "a41bbe85",
   "metadata": {},
   "outputs": [],
   "source": [
    "compiler.Compiler().compile(\n",
    "    pipeline_func=pipeline, \n",
    "    package_path=\"fc-first-automl-flower-clf.yaml\",\n",
    ")"
   ]
  },
  {
   "cell_type": "code",
   "execution_count": null,
   "id": "2b542d68",
   "metadata": {},
   "outputs": [],
   "source": [
    "job = aip.PipelineJob(\n",
    "    display_name=\"first-automl-job\",\n",
    "    template_path=\"fc-first-automl-flower-clf.yaml\",\n",
    "    pipeline_root=PIPELINE_ROOT,\n",
    "    enable_caching=False,\n",
    ")"
   ]
  },
  {
   "cell_type": "code",
   "execution_count": null,
   "id": "78ec25a8",
   "metadata": {},
   "outputs": [],
   "source": [
    "job.run()"
   ]
  }
 ],
 "metadata": {
  "language_info": {
   "name": "python"
  }
 },
 "nbformat": 4,
 "nbformat_minor": 5
}
