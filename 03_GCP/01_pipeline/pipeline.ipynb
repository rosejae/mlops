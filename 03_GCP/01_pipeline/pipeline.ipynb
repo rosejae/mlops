{
 "cells": [
  {
   "cell_type": "code",
   "execution_count": null,
   "id": "9343f711",
   "metadata": {},
   "outputs": [],
   "source": [
    "!pip install --upgrade google-cloud-aiplatform google-cloud-storage kfp google-cloud-pipeline-components"
   ]
  },
  {
   "cell_type": "code",
   "execution_count": null,
   "id": "cf184060",
   "metadata": {},
   "outputs": [],
   "source": [
    "!gcloud config list"
   ]
  },
  {
   "cell_type": "code",
   "execution_count": null,
   "id": "cf239ab6",
   "metadata": {},
   "outputs": [],
   "source": [
    "PROJECT_ID = \"ai-service-467312\"\n",
    "REGION = \"us-central1\"\n",
    "\n",
    "!gcloud config set project {PROJECT_ID}"
   ]
  },
  {
   "cell_type": "code",
   "execution_count": null,
   "id": "d04d2cda",
   "metadata": {},
   "outputs": [],
   "source": [
    "BUCKET_URI = f\"gs://fs-practice-{PROJECT_ID}\"\n",
    "\n",
    "!gsutil mb -l {REGION} -p {PROJECT_ID} {BUCKET_URI}"
   ]
  },
  {
   "cell_type": "code",
   "execution_count": null,
   "id": "4bd29b91",
   "metadata": {},
   "outputs": [],
   "source": [
    "shell_output = !gcloud auth list 2>/dev/null\n",
    "SERVICE_ACCOUNT = shell_output[2].replace(\"*\", \"\").strip()\n",
    "\n",
    "!gsutil iam ch serviceAccount:{SERVICE_ACCOUNT}:roles/storage.objectCreator $BUCKET_URI\n",
    "!gsutil iam ch serviceAccount:{SERVICE_ACCOUNT}:roles/storage.objectViewer $BUCKET_URI"
   ]
  },
  {
   "cell_type": "code",
   "execution_count": null,
   "id": "ba086fd0",
   "metadata": {},
   "outputs": [],
   "source": [
    "from typing import NamedTuple\n",
    "\n",
    "import google.cloud.aiplatform as aip\n",
    "from kfp import compiler, dsl\n",
    "from kfp.dsl import component"
   ]
  },
  {
   "cell_type": "code",
   "execution_count": null,
   "id": "0a3f8eed",
   "metadata": {},
   "outputs": [],
   "source": [
    "PIPELINE_ROOT = \"{}/pipeline_root/fc_first_simple_pipeline\".format(BUCKET_URI)"
   ]
  },
  {
   "cell_type": "code",
   "execution_count": null,
   "id": "adc0951d",
   "metadata": {},
   "outputs": [],
   "source": [
    "aip.init(project=PROJECT_ID, staging_bucket=BUCKET_URI)"
   ]
  },
  {
   "cell_type": "code",
   "execution_count": null,
   "id": "3170628b",
   "metadata": {},
   "outputs": [],
   "source": [
    "@component(base_image=\"python:3.9\")\n",
    "def hello_world(text: str) -> str:\n",
    "    print(text)\n",
    "    return text\n",
    "\n",
    "compiler.Compiler().compile(hello_world, \"hw.yaml\")"
   ]
  },
  {
   "cell_type": "code",
   "execution_count": null,
   "id": "7be139c9",
   "metadata": {},
   "outputs": [],
   "source": [
    "@component(packages_to_install=[\"google-cloud-storage\"])\n",
    "def two_outputs(text: str) -> NamedTuple(\"Outputs\", [(\"output_one\", str), (\"output_two\", str)]):\n",
    "    \n",
    "    from google.cloud import storage\n",
    "    \n",
    "    text1 = f\"output first: {text}\"\n",
    "    text2 = f\"output second: {text}\"\n",
    "    \n",
    "    return (text1, text2)"
   ]
  },
  {
   "cell_type": "code",
   "execution_count": null,
   "id": "3eba7849",
   "metadata": {},
   "outputs": [],
   "source": [
    "@component(base_image=\"python:3.10\")\n",
    "def three_nicemeet_outputs(name: str) -> str:\n",
    "    result_string = \"Nice to meet you! \"+name\n",
    "    print(result_string)\n",
    "    return result_string\n",
    "\n",
    "compiler.Compiler().compile(three_nicemeet_outputs, \"hw2.yaml\")    "
   ]
  },
  {
   "cell_type": "code",
   "execution_count": null,
   "id": "cbb42652",
   "metadata": {},
   "outputs": [],
   "source": [
    "@component\n",
    "def consumer(text1: str, text2: str, text3: str, text4: str) -> str:\n",
    "    result = f\"text1-> {text1}, text2-> {text2}, text3-> {text3}, text4-> {text4}\"\n",
    "    print(result)\n",
    "    return result"
   ]
  },
  {
   "cell_type": "code",
   "execution_count": null,
   "id": "deb6fb5b",
   "metadata": {},
   "outputs": [],
   "source": [
    "@dsl.pipeline(name=\"fc-first_pipeline-2524\", description=\"hello pipeline\", pipeline_root=PIPELINE_ROOT)\n",
    "def pipeline(text: str = \"hi there\", name: str = \"fc seoul\"):\n",
    "    hw_task = hello_world(text=text)\n",
    "    two_outputs_task = two_outputs(text=text)\n",
    "    three_outputs_task = three_nicemeet_outputs(name=name)\n",
    "    \n",
    "    consumer_task = consumer(\n",
    "        text1=hw_task.output,\n",
    "        text2=two_outputs_task.outputs[\"output_one\"],\n",
    "        text3=two_outputs_task.outputs[\"output_two\"],\n",
    "        text4=three_outputs_task.output\n",
    "    )\n",
    "    \n",
    "compiler.Compiler().compile(pipeline_func=pipeline, package_path=\"first_pipeline.yaml\")"
   ]
  },
  {
   "cell_type": "code",
   "execution_count": null,
   "id": "0310045c",
   "metadata": {},
   "outputs": [],
   "source": [
    "job = aip.PipelineJob(\n",
    "    display_name = \"first_fc_pipeline\",\n",
    "    template_path = \"first_pipeline.yaml\",\n",
    "    pipeline_root = PIPELINE_ROOT,\n",
    ")"
   ]
  },
  {
   "cell_type": "code",
   "execution_count": null,
   "id": "050799a4",
   "metadata": {},
   "outputs": [],
   "source": [
    "job.run()"
   ]
  }
 ],
 "metadata": {
  "language_info": {
   "name": "python"
  }
 },
 "nbformat": 4,
 "nbformat_minor": 5
}
